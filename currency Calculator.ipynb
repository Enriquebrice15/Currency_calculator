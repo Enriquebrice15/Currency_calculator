{
 "cells": [
  {
   "cell_type": "code",
   "execution_count": 3,
   "id": "56ca24dd",
   "metadata": {},
   "outputs": [],
   "source": [
    "from currency_converter import CurrencyConverter\n",
    "c = CurrencyConverter()"
   ]
  },
  {
   "cell_type": "code",
   "execution_count": 7,
   "id": "142111e3",
   "metadata": {},
   "outputs": [
    {
     "data": {
      "text/plain": [
       "130979.99999999999"
      ]
     },
     "execution_count": 7,
     "metadata": {},
     "output_type": "execute_result"
    }
   ],
   "source": [
    "c.convert(1000, 'EUR', 'JPY')"
   ]
  },
  {
   "cell_type": "code",
   "execution_count": 14,
   "id": "2b4761e0",
   "metadata": {},
   "outputs": [
    {
     "name": "stdin",
     "output_type": "stream",
     "text": [
      "From CurrencyKey:  USD\n",
      "TO CurrencyKey:  JPY\n",
      "Amount:  1000\n"
     ]
    },
    {
     "name": "stdout",
     "output_type": "stream",
     "text": [
      "1000 USD = 114370.96 JPY\n"
     ]
    }
   ],
   "source": [
    "# Python program to convert the currency\n",
    "# of one country to that of another country \n",
    "  \n",
    "# Import the modules needed\n",
    "import requests\n",
    "  \n",
    "class Currency_convertor:\n",
    "    # empty dict to store the conversion rates\n",
    "    rates = {} \n",
    "    def __init__(self, url):\n",
    "        data = requests.get(url).json()\n",
    "  \n",
    "        # Extracting only the rates from the json data\n",
    "        self.rates = data[\"rates\"] \n",
    "  \n",
    "    # function to do a simple cross multiplication between \n",
    "    # the amount and the conversion rates\n",
    "    def convert(self, from_currency, to_currency, amount):\n",
    "        initial_amount = amount\n",
    "        if from_currency != 'EUR' :\n",
    "            amount = amount / self.rates[from_currency]\n",
    "  \n",
    "        # limiting the precision to 2 decimal places\n",
    "        amount = round(amount * self.rates[to_currency], 2)\n",
    "        print('{} {} = {} {}'.format(initial_amount, from_currency, amount, to_currency))\n",
    "  \n",
    "# Driver code\n",
    "if __name__ == \"__main__\":\n",
    "  \n",
    "    \n",
    "    url = str.__add__('http://data.fixer.io/api/latest?access_key=', \"6fe1a18ce218d324c8e69c1899ba5267\")  \n",
    "    c = Currency_convertor(url)\n",
    "    from_country = input(\"From CurrencyKey: \")\n",
    "    to_country = input(\"TO CurrencyKey: \")\n",
    "    amount = int(input(\"Amount: \"))\n",
    "    \n",
    "    c.convert(from_country, to_country, amount)"
   ]
  },
  {
   "cell_type": "code",
   "execution_count": null,
   "id": "cbd35270",
   "metadata": {},
   "outputs": [],
   "source": []
  }
 ],
 "metadata": {
  "kernelspec": {
   "display_name": "Python [conda env:pyvizenv] *",
   "language": "python",
   "name": "conda-env-pyvizenv-py"
  },
  "language_info": {
   "codemirror_mode": {
    "name": "ipython",
    "version": 3
   },
   "file_extension": ".py",
   "mimetype": "text/x-python",
   "name": "python",
   "nbconvert_exporter": "python",
   "pygments_lexer": "ipython3",
   "version": "3.7.11"
  }
 },
 "nbformat": 4,
 "nbformat_minor": 5
}
